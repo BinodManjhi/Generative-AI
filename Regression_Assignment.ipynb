{
  "cells": [
    {
      "cell_type": "markdown",
      "id": "af1fb4cc",
      "metadata": {
        "id": "af1fb4cc"
      },
      "source": [
        "## **Regression Assignment**\n"
      ]
    },
    {
      "cell_type": "markdown",
      "id": "caede24f",
      "metadata": {
        "id": "caede24f"
      },
      "source": [
        "**1. What is Simple Linear Regression**"
      ]
    },
    {
      "cell_type": "markdown",
      "id": "20cbc6c6",
      "metadata": {
        "id": "20cbc6c6"
      },
      "source": [
        "Simple Linear Regression models the relationship between a dependent variable and one independent variable using a straight line."
      ]
    },
    {
      "cell_type": "markdown",
      "id": "c18a3894",
      "metadata": {
        "id": "c18a3894"
      },
      "source": [
        "**2. What are the key assumptions of Simple Linear Regression**"
      ]
    },
    {
      "cell_type": "markdown",
      "id": "715d50d1",
      "metadata": {
        "id": "715d50d1"
      },
      "source": [
        "- Linearity\n",
        "- Independence\n",
        "- Homoscedasticity\n",
        "- Normal distribution of errors"
      ]
    },
    {
      "cell_type": "markdown",
      "id": "178fae1a",
      "metadata": {
        "id": "178fae1a"
      },
      "source": [
        "**3. What does the coefficient m represent in the equation Y = mX + c**"
      ]
    },
    {
      "cell_type": "markdown",
      "id": "2d662c0b",
      "metadata": {
        "id": "2d662c0b"
      },
      "source": [
        "`m` represents the **slope**, showing the change in Y for a one-unit change in X."
      ]
    },
    {
      "cell_type": "markdown",
      "id": "1c1706bb",
      "metadata": {
        "id": "1c1706bb"
      },
      "source": [
        "**4. What does the intercept c represent in the equation Y = mX + c**"
      ]
    },
    {
      "cell_type": "markdown",
      "id": "1abfd561",
      "metadata": {
        "id": "1abfd561"
      },
      "source": [
        "`c` is the **intercept**, the value of Y when X = 0."
      ]
    },
    {
      "cell_type": "markdown",
      "id": "224a3de2",
      "metadata": {
        "id": "224a3de2"
      },
      "source": [
        "**5. How do we calculate the slope m in Simple Linear Regression**"
      ]
    },
    {
      "cell_type": "markdown",
      "id": "58eb5400",
      "metadata": {
        "id": "58eb5400"
      },
      "source": [
        "Using the formula:\n",
        "```python\n",
        "m = sum((x - x_mean)*(y - y_mean)) / sum((x - x_mean)**2)\n",
        "```"
      ]
    },
    {
      "cell_type": "markdown",
      "id": "9bc8d3e0",
      "metadata": {
        "id": "9bc8d3e0"
      },
      "source": [
        "**6. What is the purpose of the least squares method in Simple Linear Regression**"
      ]
    },
    {
      "cell_type": "markdown",
      "id": "48933be7",
      "metadata": {
        "id": "48933be7"
      },
      "source": [
        "To minimize the sum of squared residuals (errors) between the predicted and actual values."
      ]
    },
    {
      "cell_type": "markdown",
      "id": "9ba9151b",
      "metadata": {
        "id": "9ba9151b"
      },
      "source": [
        "**7. How is the coefficient of determination (R²) interpreted in Simple Linear Regression**"
      ]
    },
    {
      "cell_type": "markdown",
      "id": "644b6cda",
      "metadata": {
        "id": "644b6cda"
      },
      "source": [
        "R² indicates the proportion of variance in the dependent variable that is predictable from the independent variable."
      ]
    },
    {
      "cell_type": "markdown",
      "id": "3404a212",
      "metadata": {
        "id": "3404a212"
      },
      "source": [
        "**8. What is Multiple Linear Regression**"
      ]
    },
    {
      "cell_type": "markdown",
      "id": "a91938fe",
      "metadata": {
        "id": "a91938fe"
      },
      "source": [
        "A regression model that uses two or more independent variables to predict a dependent variable."
      ]
    },
    {
      "cell_type": "markdown",
      "id": "addfbc7d",
      "metadata": {
        "id": "addfbc7d"
      },
      "source": [
        "**9. What is the main difference between Simple and Multiple Linear Regression**"
      ]
    },
    {
      "cell_type": "markdown",
      "id": "610d4be2",
      "metadata": {
        "id": "610d4be2"
      },
      "source": [
        "Simple Linear Regression has one independent variable; Multiple Linear Regression has multiple independent variables."
      ]
    },
    {
      "cell_type": "markdown",
      "id": "88e3c75c",
      "metadata": {
        "id": "88e3c75c"
      },
      "source": [
        "**10. What are the key assumptions of Multiple Linear Regression**"
      ]
    },
    {
      "cell_type": "markdown",
      "id": "a4a699a0",
      "metadata": {
        "id": "a4a699a0"
      },
      "source": [
        "- No multicollinearity\n",
        "- Linearity\n",
        "- Homoscedasticity\n",
        "- Normality of residuals"
      ]
    },
    {
      "cell_type": "markdown",
      "id": "a250ac78",
      "metadata": {
        "id": "a250ac78"
      },
      "source": [
        "**11. What is heteroscedasticity, and how does it affect the results of a Multiple Linear Regression model**"
      ]
    },
    {
      "cell_type": "markdown",
      "id": "364aa539",
      "metadata": {
        "id": "364aa539"
      },
      "source": [
        "It refers to unequal variance of errors, which can invalidate statistical tests of coefficients."
      ]
    },
    {
      "cell_type": "markdown",
      "id": "43769da2",
      "metadata": {
        "id": "43769da2"
      },
      "source": [
        "**12. How can you improve a Multiple Linear Regression model with high multicollinearity**"
      ]
    },
    {
      "cell_type": "markdown",
      "id": "977b8ea0",
      "metadata": {
        "id": "977b8ea0"
      },
      "source": [
        "- Remove/reduce correlated variables\n",
        "- Use PCA\n",
        "- Apply regularization (Ridge/Lasso)"
      ]
    },
    {
      "cell_type": "markdown",
      "id": "579d89c1",
      "metadata": {
        "id": "579d89c1"
      },
      "source": [
        "**13. What are some common techniques for transforming categorical variables for use in regression models**"
      ]
    },
    {
      "cell_type": "markdown",
      "id": "2587414f",
      "metadata": {
        "id": "2587414f"
      },
      "source": [
        "- One-hot encoding\n",
        "- Label encoding\n",
        "- Binary encoding"
      ]
    },
    {
      "cell_type": "markdown",
      "id": "4cc141b2",
      "metadata": {
        "id": "4cc141b2"
      },
      "source": [
        "**14. What is the role of interaction terms in Multiple Linear Regression**"
      ]
    },
    {
      "cell_type": "markdown",
      "id": "67478a87",
      "metadata": {
        "id": "67478a87"
      },
      "source": [
        "Interaction terms allow modeling combined effects of two variables that are not captured individually."
      ]
    },
    {
      "cell_type": "markdown",
      "id": "d9be8604",
      "metadata": {
        "id": "d9be8604"
      },
      "source": [
        "**15. How can the interpretation of intercept differ between Simple and Multiple Linear Regression**"
      ]
    },
    {
      "cell_type": "markdown",
      "id": "baa6425e",
      "metadata": {
        "id": "baa6425e"
      },
      "source": [
        "In Multiple Linear Regression, the intercept represents the predicted value when all independent variables are zero."
      ]
    },
    {
      "cell_type": "markdown",
      "id": "6e5ff00f",
      "metadata": {
        "id": "6e5ff00f"
      },
      "source": [
        "**16. What is the significance of the slope in regression analysis, and how does it affect predictions**"
      ]
    },
    {
      "cell_type": "markdown",
      "id": "ed263407",
      "metadata": {
        "id": "ed263407"
      },
      "source": [
        "The slope indicates how much the dependent variable changes per unit change in an independent variable."
      ]
    },
    {
      "cell_type": "markdown",
      "id": "9c3003f7",
      "metadata": {
        "id": "9c3003f7"
      },
      "source": [
        "**17. How does the intercept in a regression model provide context for the relationship between variables**"
      ]
    },
    {
      "cell_type": "markdown",
      "id": "694dbc50",
      "metadata": {
        "id": "694dbc50"
      },
      "source": [
        "It serves as the baseline value for the dependent variable when all independent variables are zero."
      ]
    },
    {
      "cell_type": "markdown",
      "id": "a640aa00",
      "metadata": {
        "id": "a640aa00"
      },
      "source": [
        "**18. What are the limitations of using R² as a sole measure of model performance**"
      ]
    },
    {
      "cell_type": "markdown",
      "id": "36cf16a4",
      "metadata": {
        "id": "36cf16a4"
      },
      "source": [
        "- Doesn't account for model complexity\n",
        "- Can be artificially high for overfit models\n",
        "- Doesn't indicate causation"
      ]
    },
    {
      "cell_type": "markdown",
      "id": "94371306",
      "metadata": {
        "id": "94371306"
      },
      "source": [
        "**19. How would you interpret a large standard error for a regression coefficient**"
      ]
    },
    {
      "cell_type": "markdown",
      "id": "81f40b66",
      "metadata": {
        "id": "81f40b66"
      },
      "source": [
        "It suggests the coefficient estimate is not precise and may not be significantly different from zero."
      ]
    },
    {
      "cell_type": "markdown",
      "id": "efd6b5bc",
      "metadata": {
        "id": "efd6b5bc"
      },
      "source": [
        "**20. How can heteroscedasticity be identified in residual plots, and why is it important to address it**"
      ]
    },
    {
      "cell_type": "markdown",
      "id": "74a2f785",
      "metadata": {
        "id": "74a2f785"
      },
      "source": [
        "Identified by funnel shape in residual plots. It's important because it affects the validity of p-values and confidence intervals."
      ]
    },
    {
      "cell_type": "markdown",
      "id": "291b7a56",
      "metadata": {
        "id": "291b7a56"
      },
      "source": [
        "**21. What does it mean if a Multiple Linear Regression model has a high R² but low adjusted R²**"
      ]
    },
    {
      "cell_type": "markdown",
      "id": "fd22be32",
      "metadata": {
        "id": "fd22be32"
      },
      "source": [
        "The model might be overfitting due to unnecessary predictors that do not improve predictive power."
      ]
    },
    {
      "cell_type": "markdown",
      "id": "5fed830d",
      "metadata": {
        "id": "5fed830d"
      },
      "source": [
        "**22. Why is it important to scale variables in Multiple Linear Regression**"
      ]
    },
    {
      "cell_type": "markdown",
      "id": "926748bb",
      "metadata": {
        "id": "926748bb"
      },
      "source": [
        "To ensure all variables contribute equally, especially when using regularization techniques."
      ]
    },
    {
      "cell_type": "markdown",
      "id": "8a7bd942",
      "metadata": {
        "id": "8a7bd942"
      },
      "source": [
        "**23. What is polynomial regression**"
      ]
    },
    {
      "cell_type": "markdown",
      "id": "c4cb077a",
      "metadata": {
        "id": "c4cb077a"
      },
      "source": [
        "A type of regression that models the relationship as an nth-degree polynomial."
      ]
    },
    {
      "cell_type": "markdown",
      "id": "84622d05",
      "metadata": {
        "id": "84622d05"
      },
      "source": [
        "**24. How does polynomial regression differ from linear regression**"
      ]
    },
    {
      "cell_type": "markdown",
      "id": "ff58750c",
      "metadata": {
        "id": "ff58750c"
      },
      "source": [
        "Polynomial regression includes higher-order terms (e.g., x², x³), capturing non-linear relationships."
      ]
    },
    {
      "cell_type": "markdown",
      "id": "5a20fe45",
      "metadata": {
        "id": "5a20fe45"
      },
      "source": [
        "**25. When is polynomial regression used**"
      ]
    },
    {
      "cell_type": "markdown",
      "id": "c7295c6b",
      "metadata": {
        "id": "c7295c6b"
      },
      "source": [
        "When data shows a non-linear trend that cannot be captured by a straight line."
      ]
    },
    {
      "cell_type": "markdown",
      "id": "c2db26be",
      "metadata": {
        "id": "c2db26be"
      },
      "source": [
        "**26. What is the general equation for polynomial regression**"
      ]
    },
    {
      "cell_type": "markdown",
      "id": "b5329a21",
      "metadata": {
        "id": "b5329a21"
      },
      "source": [
        "Y = β₀ + β₁X + β₂X² + β₃X³ + ... + βnXⁿ + ε"
      ]
    },
    {
      "cell_type": "markdown",
      "id": "9ab339d9",
      "metadata": {
        "id": "9ab339d9"
      },
      "source": [
        "**27. Can polynomial regression be applied to multiple variables**"
      ]
    },
    {
      "cell_type": "markdown",
      "id": "2d48a63f",
      "metadata": {
        "id": "2d48a63f"
      },
      "source": [
        "Yes, multivariate polynomial regression includes interaction and power terms for multiple variables."
      ]
    },
    {
      "cell_type": "markdown",
      "id": "c424b470",
      "metadata": {
        "id": "c424b470"
      },
      "source": [
        "**28. What are the limitations of polynomial regression**"
      ]
    },
    {
      "cell_type": "markdown",
      "id": "397ffb3e",
      "metadata": {
        "id": "397ffb3e"
      },
      "source": [
        "- Overfitting with high degrees\n",
        "- Interpretability becomes difficult\n",
        "- Prone to outliers"
      ]
    },
    {
      "cell_type": "markdown",
      "id": "dc7b776e",
      "metadata": {
        "id": "dc7b776e"
      },
      "source": [
        "**29. What methods can be used to evaluate model fit when selecting the degree of a polynomial**"
      ]
    },
    {
      "cell_type": "markdown",
      "id": "6c9af7d3",
      "metadata": {
        "id": "6c9af7d3"
      },
      "source": [
        "- Cross-validation\n",
        "- Adjusted R²\n",
        "- AIC/BIC"
      ]
    },
    {
      "cell_type": "markdown",
      "id": "87259832",
      "metadata": {
        "id": "87259832"
      },
      "source": [
        "**30. Why is visualization important in polynomial regression**"
      ]
    },
    {
      "cell_type": "markdown",
      "id": "fddbf651",
      "metadata": {
        "id": "fddbf651"
      },
      "source": [
        "Helps to understand the model's performance and detect overfitting or underfitting."
      ]
    },
    {
      "cell_type": "markdown",
      "id": "4b793091",
      "metadata": {
        "id": "4b793091"
      },
      "source": [
        "**31. How is polynomial regression implemented in Python?**"
      ]
    },
    {
      "cell_type": "code",
      "execution_count": null,
      "id": "115472bf",
      "metadata": {
        "id": "115472bf"
      },
      "outputs": [],
      "source": [
        "python\n",
        "from sklearn.preprocessing import PolynomialFeatures\n",
        "from sklearn.linear_model import LinearRegression\n",
        "from sklearn.pipeline import make_pipeline\n",
        "\n",
        "model = make_pipeline(PolynomialFeatures(degree=2), LinearRegression())\n",
        "model.fit(X_train, y_train)\n"
      ]
    }
  ],
  "metadata": {
    "colab": {
      "provenance": []
    }
  },
  "nbformat": 4,
  "nbformat_minor": 5
}