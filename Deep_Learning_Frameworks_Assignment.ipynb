{
  "cells": [
    {
      "cell_type": "markdown",
      "id": "6540629d",
      "metadata": {
        "id": "6540629d"
      },
      "source": [
        "**Theoretical Questions**"
      ]
    },
    {
      "cell_type": "markdown",
      "id": "528679dd",
      "metadata": {
        "id": "528679dd"
      },
      "source": [
        "**1. What is TensorFlow 2.0, and how is it different from TensorFlow 1.x**"
      ]
    },
    {
      "cell_type": "markdown",
      "id": "4f8252fb",
      "metadata": {
        "id": "4f8252fb"
      },
      "source": [
        "TensorFlow 2.0 is an upgraded version of TensorFlow with enhanced usability, including eager execution by default, a more intuitive API (Keras as the default high-level API), and better support for dynamic computation. It removes deprecated APIs and consolidates others for simplicity."
      ]
    },
    {
      "cell_type": "markdown",
      "id": "0153aa64",
      "metadata": {
        "id": "0153aa64"
      },
      "source": [
        "**2. How do you install TensorFlow 2.0**"
      ]
    },
    {
      "cell_type": "markdown",
      "id": "5da21a48",
      "metadata": {
        "id": "5da21a48"
      },
      "source": [
        "You can install TensorFlow 2.0 using pip:\n",
        "```bash\n",
        "pip install tensorflow\n",
        "```"
      ]
    },
    {
      "cell_type": "markdown",
      "id": "9eefa964",
      "metadata": {
        "id": "9eefa964"
      },
      "source": [
        "**3. What is the primary function of the tf.function in TensorFlow 2.0**"
      ]
    },
    {
      "cell_type": "markdown",
      "id": "2cadf7b8",
      "metadata": {
        "id": "2cadf7b8"
      },
      "source": [
        "`tf.function` is used to convert a Python function into a TensorFlow graph, enabling faster execution and optimization."
      ]
    },
    {
      "cell_type": "markdown",
      "id": "216111ea",
      "metadata": {
        "id": "216111ea"
      },
      "source": [
        "**4. What is the purpose of the Model class in TensorFlow 2.0**"
      ]
    },
    {
      "cell_type": "markdown",
      "id": "3df3d668",
      "metadata": {
        "id": "3df3d668"
      },
      "source": [
        "The `Model` class in TensorFlow is a subclass of `tf.keras.Model` and is used for building and training neural networks by defining the forward pass."
      ]
    },
    {
      "cell_type": "markdown",
      "id": "a239cdb1",
      "metadata": {
        "id": "a239cdb1"
      },
      "source": [
        "**5. What is the importance of Tensor Space in TensorFlow**"
      ]
    },
    {
      "cell_type": "markdown",
      "id": "b3caf74e",
      "metadata": {
        "id": "b3caf74e"
      },
      "source": [
        "Tensor space refers to the mathematical structure where tensors exist. It’s important as it helps in organizing and understanding how tensors interact in computations."
      ]
    },
    {
      "cell_type": "markdown",
      "id": "0bb1cec1",
      "metadata": {
        "id": "0bb1cec1"
      },
      "source": [
        "**6. How can TensorBoard be integrated with TensorFlow 2.0**"
      ]
    },
    {
      "cell_type": "markdown",
      "id": "283240f3",
      "metadata": {
        "id": "283240f3"
      },
      "source": [
        "TensorBoard can be integrated using callbacks during training:\n",
        "```python\n",
        "from tensorflow.keras.callbacks import TensorBoard\n",
        "callback = TensorBoard(log_dir='./logs')\n",
        "```"
      ]
    },
    {
      "cell_type": "markdown",
      "id": "008ac96a",
      "metadata": {
        "id": "008ac96a"
      },
      "source": [
        "**7. What is the purpose of TensorFlow Playground**"
      ]
    },
    {
      "cell_type": "markdown",
      "id": "aa4de493",
      "metadata": {
        "id": "aa4de493"
      },
      "source": [
        "TensorFlow Playground is a web-based tool that lets users experiment with neural networks in a visual and interactive way without coding."
      ]
    },
    {
      "cell_type": "markdown",
      "id": "5e4d07d9",
      "metadata": {
        "id": "5e4d07d9"
      },
      "source": [
        "**8. What is Netron, and how is it useful for deep learning models**"
      ]
    },
    {
      "cell_type": "markdown",
      "id": "0a915f1f",
      "metadata": {
        "id": "0a915f1f"
      },
      "source": [
        "Netron is a viewer for neural network models. It allows users to visualize the architecture of models built in TensorFlow, Keras, PyTorch, etc."
      ]
    },
    {
      "cell_type": "markdown",
      "id": "3af3e9b2",
      "metadata": {
        "id": "3af3e9b2"
      },
      "source": [
        "**9. What is the difference between TensorFlow and PyTorch**"
      ]
    },
    {
      "cell_type": "markdown",
      "id": "a6a14dde",
      "metadata": {
        "id": "a6a14dde"
      },
      "source": [
        "TensorFlow is graph-based with eager execution support (2.x), while PyTorch is more pythonic and uses dynamic computation graphs."
      ]
    },
    {
      "cell_type": "markdown",
      "id": "cdd16e02",
      "metadata": {
        "id": "cdd16e02"
      },
      "source": [
        "**10. How do you install PyTorch**"
      ]
    },
    {
      "cell_type": "markdown",
      "id": "cf7d0cdd",
      "metadata": {
        "id": "cf7d0cdd"
      },
      "source": [
        "You can install PyTorch using:\n",
        "```bash\n",
        "pip install torch torchvision torchaudio\n",
        "```"
      ]
    },
    {
      "cell_type": "markdown",
      "id": "5f221543",
      "metadata": {
        "id": "5f221543"
      },
      "source": [
        "**11. What is the basic structure of a PyTorch neural network**"
      ]
    },
    {
      "cell_type": "markdown",
      "id": "f97637d4",
      "metadata": {
        "id": "f97637d4"
      },
      "source": [
        "It involves subclassing `nn.Module` and defining `__init__` and `forward` methods."
      ]
    },
    {
      "cell_type": "markdown",
      "id": "093dc1f7",
      "metadata": {
        "id": "093dc1f7"
      },
      "source": [
        "**12. What is the significance of tensors in PyTorch**"
      ]
    },
    {
      "cell_type": "markdown",
      "id": "10e18d56",
      "metadata": {
        "id": "10e18d56"
      },
      "source": [
        "Tensors are the fundamental data structure for all computations in PyTorch, similar to NumPy arrays but with GPU support."
      ]
    },
    {
      "cell_type": "markdown",
      "id": "e677033d",
      "metadata": {
        "id": "e677033d"
      },
      "source": [
        "**13. What is the difference between torch.Tensor and torch.cuda.Tensor in PyTorch**"
      ]
    },
    {
      "cell_type": "markdown",
      "id": "fdd00a62",
      "metadata": {
        "id": "fdd00a62"
      },
      "source": [
        "`torch.Tensor` is CPU-based, while `torch.cuda.Tensor` resides on the GPU for accelerated computations."
      ]
    },
    {
      "cell_type": "markdown",
      "id": "a6f6074b",
      "metadata": {
        "id": "a6f6074b"
      },
      "source": [
        "**14. What is the purpose of the torch.optim module in PyTorch**"
      ]
    },
    {
      "cell_type": "markdown",
      "id": "52c164d6",
      "metadata": {
        "id": "52c164d6"
      },
      "source": [
        "It provides optimization algorithms like SGD, Adam, etc., used for training models."
      ]
    },
    {
      "cell_type": "markdown",
      "id": "7fefef3c",
      "metadata": {
        "id": "7fefef3c"
      },
      "source": [
        "**15. What are some common activation functions used in neural networks**"
      ]
    },
    {
      "cell_type": "markdown",
      "id": "14e412d6",
      "metadata": {
        "id": "14e412d6"
      },
      "source": [
        "Common activation functions include ReLU, Sigmoid, Tanh, and Softmax."
      ]
    },
    {
      "cell_type": "markdown",
      "id": "137fbe4a",
      "metadata": {
        "id": "137fbe4a"
      },
      "source": [
        "**16. What is the difference between torch.nn.Module and torch.nn.Sequential in PyTorch**"
      ]
    },
    {
      "cell_type": "markdown",
      "id": "693f2fa5",
      "metadata": {
        "id": "693f2fa5"
      },
      "source": [
        "`nn.Module` allows custom model definitions, while `nn.Sequential` is for simple linear stacking of layers."
      ]
    },
    {
      "cell_type": "markdown",
      "id": "e3c5d630",
      "metadata": {
        "id": "e3c5d630"
      },
      "source": [
        "**17. How can you monitor training progress in TensorFlow 2.0**"
      ]
    },
    {
      "cell_type": "markdown",
      "id": "0bf1f777",
      "metadata": {
        "id": "0bf1f777"
      },
      "source": [
        "Using `TensorBoard`, print statements, or Keras callbacks like `History` and `ProgbarLogger`."
      ]
    },
    {
      "cell_type": "markdown",
      "id": "a23bb5a0",
      "metadata": {
        "id": "a23bb5a0"
      },
      "source": [
        "**18. How does the Keras API fit into TensorFlow 2.0**"
      ]
    },
    {
      "cell_type": "markdown",
      "id": "0e2ce919",
      "metadata": {
        "id": "0e2ce919"
      },
      "source": [
        "Keras is integrated as TensorFlow's default high-level API in TF 2.0, simplifying model building and training."
      ]
    },
    {
      "cell_type": "markdown",
      "id": "43e3e193",
      "metadata": {
        "id": "43e3e193"
      },
      "source": [
        "**19. What is an example of a deep learning project that can be implemented using TensorFlow 2.0**"
      ]
    },
    {
      "cell_type": "markdown",
      "id": "9c02fb21",
      "metadata": {
        "id": "9c02fb21"
      },
      "source": [
        "A sentiment analysis classifier using LSTM layers on movie reviews dataset."
      ]
    },
    {
      "cell_type": "markdown",
      "id": "ddf6c260",
      "metadata": {
        "id": "ddf6c260"
      },
      "source": [
        "**20. What is the main advantage of using pre-trained models in TensorFlow and PyTorch?**"
      ]
    },
    {
      "cell_type": "markdown",
      "id": "b3e42397",
      "metadata": {
        "id": "b3e42397"
      },
      "source": [
        "Pre-trained models save time and computational resources and often improve performance by leveraging learned features from large datasets."
      ]
    },
    {
      "cell_type": "markdown",
      "id": "56c43557",
      "metadata": {
        "id": "56c43557"
      },
      "source": [
        "**Practical Questions**"
      ]
    },
    {
      "cell_type": "markdown",
      "id": "46144f8e",
      "metadata": {
        "id": "46144f8e"
      },
      "source": [
        "**1. How do you install and verify that TensorFlow 2.0 was installed successfully**"
      ]
    },
    {
      "cell_type": "code",
      "execution_count": null,
      "id": "f68e9244",
      "metadata": {
        "id": "f68e9244"
      },
      "outputs": [],
      "source": [
        "!pip install tensorflow\n",
        "import tensorflow as tf\n",
        "print(tf.__version__)"
      ]
    },
    {
      "cell_type": "markdown",
      "id": "57620f3e",
      "metadata": {
        "id": "57620f3e"
      },
      "source": [
        "**2. How can you define a simple function in TensorFlow 2.0 to perform addition**"
      ]
    },
    {
      "cell_type": "code",
      "execution_count": null,
      "id": "324efda4",
      "metadata": {
        "id": "324efda4"
      },
      "outputs": [],
      "source": [
        "import tensorflow as tf\n",
        "@tf.function\n",
        "def add_fn(x, y):\n",
        "    return x + y\n",
        "print(add_fn(3, 4))"
      ]
    },
    {
      "cell_type": "markdown",
      "id": "ca364856",
      "metadata": {
        "id": "ca364856"
      },
      "source": [
        "**3. How can you create a simple neural network in TensorFlow 2.0 with one hidden layer**"
      ]
    },
    {
      "cell_type": "code",
      "execution_count": null,
      "id": "db8cd23a",
      "metadata": {
        "id": "db8cd23a"
      },
      "outputs": [],
      "source": [
        "import tensorflow as tf\n",
        "model = tf.keras.Sequential([\n",
        "    tf.keras.layers.Dense(10, activation='relu', input_shape=(4,)),\n",
        "    tf.keras.layers.Dense(1)\n",
        "])\n",
        "model.compile(optimizer='adam', loss='mse')\n",
        "model.summary()"
      ]
    },
    {
      "cell_type": "markdown",
      "id": "0d836465",
      "metadata": {
        "id": "0d836465"
      },
      "source": [
        "**4. How can you visualize the training progress using TensorFlow and Matplotlib**"
      ]
    },
    {
      "cell_type": "code",
      "execution_count": null,
      "id": "aea623da",
      "metadata": {
        "id": "aea623da"
      },
      "outputs": [],
      "source": [
        "import matplotlib.pyplot as plt\n",
        "history = model.fit(X_train, y_train, epochs=10)\n",
        "plt.plot(history.history['loss'])\n",
        "plt.title('Training Loss')\n",
        "plt.xlabel('Epoch')\n",
        "plt.ylabel('Loss')\n",
        "plt.show()"
      ]
    },
    {
      "cell_type": "markdown",
      "id": "1fafe7f2",
      "metadata": {
        "id": "1fafe7f2"
      },
      "source": [
        "**5. How do you install PyTorch and verify the PyTorch installation**"
      ]
    },
    {
      "cell_type": "code",
      "execution_count": null,
      "id": "65b4b273",
      "metadata": {
        "id": "65b4b273"
      },
      "outputs": [],
      "source": [
        "!pip install torch torchvision\n",
        "import torch\n",
        "print(torch.__version__)\n",
        "print(torch.cuda.is_available())"
      ]
    },
    {
      "cell_type": "markdown",
      "id": "f8971507",
      "metadata": {
        "id": "f8971507"
      },
      "source": [
        "**6. How do you create a simple neural network in PyTorch**"
      ]
    },
    {
      "cell_type": "code",
      "execution_count": null,
      "id": "644db08c",
      "metadata": {
        "id": "644db08c"
      },
      "outputs": [],
      "source": [
        "import torch.nn as nn\n",
        "model = nn.Sequential(\n",
        "    nn.Linear(4, 10),\n",
        "    nn.ReLU(),\n",
        "    nn.Linear(10, 1)\n",
        ")\n",
        "print(model)"
      ]
    },
    {
      "cell_type": "markdown",
      "id": "b943da7c",
      "metadata": {
        "id": "b943da7c"
      },
      "source": [
        "**7. How do you define a loss function and optimizer in PyTorch**"
      ]
    },
    {
      "cell_type": "code",
      "execution_count": null,
      "id": "8238be37",
      "metadata": {
        "id": "8238be37"
      },
      "outputs": [],
      "source": [
        "import torch.optim as optim\n",
        "criterion = nn.MSELoss()\n",
        "optimizer = optim.Adam(model.parameters(), lr=0.01)"
      ]
    },
    {
      "cell_type": "markdown",
      "id": "74d3fe1e",
      "metadata": {
        "id": "74d3fe1e"
      },
      "source": [
        "**8. How do you implement a custom loss function in PyTorch**"
      ]
    },
    {
      "cell_type": "code",
      "execution_count": null,
      "id": "338367a5",
      "metadata": {
        "id": "338367a5"
      },
      "outputs": [],
      "source": [
        "def custom_loss(output, target):\n",
        "    return torch.mean((output - target)**2 + 0.1 * torch.abs(output))"
      ]
    },
    {
      "cell_type": "markdown",
      "id": "1cd5da5a",
      "metadata": {
        "id": "1cd5da5a"
      },
      "source": [
        "**9. How do you save and load a TensorFlow model?**"
      ]
    },
    {
      "cell_type": "code",
      "execution_count": null,
      "id": "0db74348",
      "metadata": {
        "id": "0db74348"
      },
      "outputs": [],
      "source": [
        "# Save\n",
        "model.save('my_model.h5')\n",
        "# Load\n",
        "model = tf.keras.models.load_model('my_model.h5')"
      ]
    }
  ],
  "metadata": {
    "colab": {
      "provenance": []
    }
  },
  "nbformat": 4,
  "nbformat_minor": 5
}