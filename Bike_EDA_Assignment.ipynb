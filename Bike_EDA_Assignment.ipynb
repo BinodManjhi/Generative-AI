{
  "cells": [
    {
      "cell_type": "markdown",
      "id": "fd5c4301",
      "metadata": {
        "id": "fd5c4301"
      },
      "source": [
        "# EDA on Bike Details Dataset\n"
      ]
    },
    {
      "cell_type": "markdown",
      "id": "40448483",
      "metadata": {
        "id": "40448483"
      },
      "source": [
        "\n",
        "This dataset focuses on used bikes and includes various attributes to analyze the second-hand bike market.\n",
        "It includes columns like `name`, `selling_price`, `year`, `seller_type`, `owner`, `km_driven`, and `ex_showroom_price`.\n",
        "\n",
        "**Source:** Simulated dataset commonly observed in real-world online bike resale platforms.\n"
      ]
    },
    {
      "cell_type": "markdown",
      "id": "a4882ccf",
      "metadata": {
        "id": "a4882ccf"
      },
      "source": [
        "### 1. What is the range of selling prices in the dataset?"
      ]
    },
    {
      "cell_type": "code",
      "execution_count": null,
      "id": "dbcd18c7",
      "metadata": {
        "id": "dbcd18c7"
      },
      "outputs": [],
      "source": [
        "df['selling_price'].min(), df['selling_price'].max()"
      ]
    },
    {
      "cell_type": "markdown",
      "id": "3302749b",
      "metadata": {
        "id": "3302749b"
      },
      "source": [
        "### 2. What is the median selling price for bikes in the dataset?"
      ]
    },
    {
      "cell_type": "code",
      "execution_count": null,
      "id": "fdfabc67",
      "metadata": {
        "id": "fdfabc67"
      },
      "outputs": [],
      "source": [
        "df['selling_price'].median()"
      ]
    },
    {
      "cell_type": "markdown",
      "id": "14d78da9",
      "metadata": {
        "id": "14d78da9"
      },
      "source": [
        "### 3. What is the most common seller type?"
      ]
    },
    {
      "cell_type": "code",
      "execution_count": null,
      "id": "c5d1e1fd",
      "metadata": {
        "id": "c5d1e1fd"
      },
      "outputs": [],
      "source": [
        "df['seller_type'].value_counts().idxmax()"
      ]
    },
    {
      "cell_type": "markdown",
      "id": "a702ac0e",
      "metadata": {
        "id": "a702ac0e"
      },
      "source": [
        "### 4. How many bikes have driven more than 50,000 kilometers?"
      ]
    },
    {
      "cell_type": "code",
      "execution_count": null,
      "id": "53d8124b",
      "metadata": {
        "id": "53d8124b"
      },
      "outputs": [],
      "source": [
        "(df['km_driven'] > 50000).sum()"
      ]
    },
    {
      "cell_type": "markdown",
      "id": "720e036a",
      "metadata": {
        "id": "720e036a"
      },
      "source": [
        "### 5. What is the average km_driven value for each ownership type?"
      ]
    },
    {
      "cell_type": "code",
      "execution_count": null,
      "id": "df32a5f7",
      "metadata": {
        "id": "df32a5f7"
      },
      "outputs": [],
      "source": [
        "df.groupby('owner')['km_driven'].mean()"
      ]
    },
    {
      "cell_type": "markdown",
      "id": "29994893",
      "metadata": {
        "id": "29994893"
      },
      "source": [
        "### 6. What proportion of bikes are from the year 2015 or older?"
      ]
    },
    {
      "cell_type": "code",
      "execution_count": null,
      "id": "57fd9941",
      "metadata": {
        "id": "57fd9941"
      },
      "outputs": [],
      "source": [
        "(df['year'] <= 2015).mean()"
      ]
    },
    {
      "cell_type": "markdown",
      "id": "0a7a9eae",
      "metadata": {
        "id": "0a7a9eae"
      },
      "source": [
        "### 7. What is the trend of missing values across the dataset?"
      ]
    },
    {
      "cell_type": "code",
      "execution_count": null,
      "id": "b2cc7b27",
      "metadata": {
        "id": "b2cc7b27"
      },
      "outputs": [],
      "source": [
        "df.isnull().sum()"
      ]
    },
    {
      "cell_type": "markdown",
      "id": "2d72ae29",
      "metadata": {
        "id": "2d72ae29"
      },
      "source": [
        "### 8. What is the highest ex_showroom_price recorded, and for which bike?"
      ]
    },
    {
      "cell_type": "code",
      "execution_count": null,
      "id": "76ce312e",
      "metadata": {
        "id": "76ce312e"
      },
      "outputs": [],
      "source": [
        "df.loc[df['ex_showroom_price'].idxmax()][['name', 'ex_showroom_price']]"
      ]
    },
    {
      "cell_type": "markdown",
      "id": "3bf65fda",
      "metadata": {
        "id": "3bf65fda"
      },
      "source": [
        "### 9. What is the total number of bikes listed by each seller type?"
      ]
    },
    {
      "cell_type": "code",
      "execution_count": null,
      "id": "f911e387",
      "metadata": {
        "id": "f911e387"
      },
      "outputs": [],
      "source": [
        "df['seller_type'].value_counts()"
      ]
    },
    {
      "cell_type": "markdown",
      "id": "6f64b62f",
      "metadata": {
        "id": "6f64b62f"
      },
      "source": [
        "### 10. Relationship between selling_price and km_driven for first-owner bikes"
      ]
    },
    {
      "cell_type": "code",
      "execution_count": null,
      "id": "2060965c",
      "metadata": {
        "id": "2060965c"
      },
      "outputs": [],
      "source": [
        "import seaborn as sns\n",
        "import matplotlib.pyplot as plt\n",
        "first_owner_bikes = df[df['owner'] == '1st owner']\n",
        "sns.scatterplot(data=first_owner_bikes, x='km_driven', y='selling_price')\n",
        "plt.title('Selling Price vs KM Driven (1st Owner Bikes)')\n",
        "plt.show()"
      ]
    },
    {
      "cell_type": "markdown",
      "id": "9ebcc3d2",
      "metadata": {
        "id": "9ebcc3d2"
      },
      "source": [
        "### 11. Identify and remove outliers in the km_driven column using the IQR method"
      ]
    },
    {
      "cell_type": "code",
      "execution_count": null,
      "id": "be494a3d",
      "metadata": {
        "id": "be494a3d"
      },
      "outputs": [],
      "source": [
        "Q1 = df['km_driven'].quantile(0.25)\n",
        "Q3 = df['km_driven'].quantile(0.75)\n",
        "IQR = Q3 - Q1\n",
        "filtered_df = df[(df['km_driven'] >= (Q1 - 1.5 * IQR)) & (df['km_driven'] <= (Q3 + 1.5 * IQR))]\n",
        "filtered_df.shape"
      ]
    },
    {
      "cell_type": "markdown",
      "id": "22698388",
      "metadata": {
        "id": "22698388"
      },
      "source": [
        "### 12. Visualize the relationship between year and selling_price"
      ]
    },
    {
      "cell_type": "code",
      "execution_count": null,
      "id": "357a59bd",
      "metadata": {
        "id": "357a59bd"
      },
      "outputs": [],
      "source": [
        "sns.boxplot(data=df, x='year', y='selling_price')\n",
        "plt.xticks(rotation=90)\n",
        "plt.title('Selling Price by Year')\n",
        "plt.show()"
      ]
    },
    {
      "cell_type": "markdown",
      "id": "bf460d26",
      "metadata": {
        "id": "bf460d26"
      },
      "source": [
        "### 13. What is the average depreciation in selling price based on the bike's age?"
      ]
    },
    {
      "cell_type": "code",
      "execution_count": null,
      "id": "25927c93",
      "metadata": {
        "id": "25927c93"
      },
      "outputs": [],
      "source": [
        "df['bike_age'] = 2025 - df['year']\n",
        "df['depreciation'] = df['ex_showroom_price'] - df['selling_price']\n",
        "df.groupby('bike_age')['depreciation'].mean()"
      ]
    },
    {
      "cell_type": "markdown",
      "id": "7ece643d",
      "metadata": {
        "id": "7ece643d"
      },
      "source": [
        "### 14. Bikes priced significantly above the average price for their manufacturing year"
      ]
    },
    {
      "cell_type": "code",
      "execution_count": null,
      "id": "2a604f85",
      "metadata": {
        "id": "2a604f85"
      },
      "outputs": [],
      "source": [
        "avg_price_by_year = df.groupby('year')['selling_price'].mean()\n",
        "df[df['selling_price'] > df['year'].map(avg_price_by_year) * 1.5][['name', 'year', 'selling_price']]"
      ]
    },
    {
      "cell_type": "markdown",
      "id": "63423e90",
      "metadata": {
        "id": "63423e90"
      },
      "source": [
        "### 15. Correlation matrix for numeric columns visualized using a heatmap"
      ]
    },
    {
      "cell_type": "code",
      "execution_count": null,
      "id": "415b294f",
      "metadata": {
        "id": "415b294f"
      },
      "outputs": [],
      "source": [
        "sns.heatmap(df.corr(numeric_only=True), annot=True, cmap='coolwarm')\n",
        "plt.title('Correlation Heatmap')\n",
        "plt.show()"
      ]
    }
  ],
  "metadata": {
    "colab": {
      "provenance": []
    }
  },
  "nbformat": 4,
  "nbformat_minor": 5
}