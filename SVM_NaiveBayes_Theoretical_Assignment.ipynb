{
 "cells": [
  {
   "cell_type": "markdown",
   "id": "836e4241",
   "metadata": {},
   "source": [
    "## Theoretical"
   ]
  },
  {
   "cell_type": "markdown",
   "id": "5fa68f4d",
   "metadata": {},
   "source": [
    "**Q1. What is a Support Vector Machine (SVM)**"
   ]
  },
  {
   "cell_type": "markdown",
   "id": "68efe712",
   "metadata": {},
   "source": [
    "Answer goes here..."
   ]
  },
  {
   "cell_type": "markdown",
   "id": "25583281",
   "metadata": {},
   "source": [
    "**Q2. What is the difference between Hard Margin and Soft Margin SVM**"
   ]
  },
  {
   "cell_type": "markdown",
   "id": "ade1c5e7",
   "metadata": {},
   "source": [
    "Answer goes here..."
   ]
  },
  {
   "cell_type": "markdown",
   "id": "3055595f",
   "metadata": {},
   "source": [
    "**Q3. What is the mathematical intuition behind SVM**"
   ]
  },
  {
   "cell_type": "markdown",
   "id": "84b1a99e",
   "metadata": {},
   "source": [
    "Answer goes here..."
   ]
  },
  {
   "cell_type": "markdown",
   "id": "c6481911",
   "metadata": {},
   "source": [
    "**Q4. What is the role of Lagrange Multipliers in SVM**"
   ]
  },
  {
   "cell_type": "markdown",
   "id": "e2eb725d",
   "metadata": {},
   "source": [
    "Answer goes here..."
   ]
  },
  {
   "cell_type": "markdown",
   "id": "36b7847a",
   "metadata": {},
   "source": [
    "**Q5. What are Support Vectors in SVM**"
   ]
  },
  {
   "cell_type": "markdown",
   "id": "9fda9b0f",
   "metadata": {},
   "source": [
    "Answer goes here..."
   ]
  },
  {
   "cell_type": "markdown",
   "id": "3e70f7ff",
   "metadata": {},
   "source": [
    "**Q6. What is a Support Vector Classifier (SVC)**"
   ]
  },
  {
   "cell_type": "markdown",
   "id": "a087a35c",
   "metadata": {},
   "source": [
    "Answer goes here..."
   ]
  },
  {
   "cell_type": "markdown",
   "id": "c0773899",
   "metadata": {},
   "source": [
    "**Q7. What is a Support Vector Regressor (SVR)**"
   ]
  },
  {
   "cell_type": "markdown",
   "id": "55d1c524",
   "metadata": {},
   "source": [
    "Answer goes here..."
   ]
  },
  {
   "cell_type": "markdown",
   "id": "58dd1990",
   "metadata": {},
   "source": [
    "**Q8. What is the Kernel Trick in SVM**"
   ]
  },
  {
   "cell_type": "markdown",
   "id": "dd1674f6",
   "metadata": {},
   "source": [
    "Answer goes here..."
   ]
  },
  {
   "cell_type": "markdown",
   "id": "d98cb973",
   "metadata": {},
   "source": [
    "**Q9. Compare Linear Kernel, Polynomial Kernel, and RBF Kernel**"
   ]
  },
  {
   "cell_type": "markdown",
   "id": "5c37f21b",
   "metadata": {},
   "source": [
    "Answer goes here..."
   ]
  },
  {
   "cell_type": "markdown",
   "id": "257542b2",
   "metadata": {},
   "source": [
    "**Q10. What is the effect of the C parameter in SVM**"
   ]
  },
  {
   "cell_type": "markdown",
   "id": "aa57d6b0",
   "metadata": {},
   "source": [
    "Answer goes here..."
   ]
  },
  {
   "cell_type": "markdown",
   "id": "6ce61a6b",
   "metadata": {},
   "source": [
    "**Q11. What is the role of the Gamma parameter in RBF Kernel SVM**"
   ]
  },
  {
   "cell_type": "markdown",
   "id": "c6cfb2ac",
   "metadata": {},
   "source": [
    "Answer goes here..."
   ]
  },
  {
   "cell_type": "markdown",
   "id": "b3621455",
   "metadata": {},
   "source": [
    "**Q12. What is the Naïve Bayes classifier, and why is it called \"Naïve\"**"
   ]
  },
  {
   "cell_type": "markdown",
   "id": "d3477386",
   "metadata": {},
   "source": [
    "Answer goes here..."
   ]
  },
  {
   "cell_type": "markdown",
   "id": "8f15be21",
   "metadata": {},
   "source": [
    "**Q13. What is Bayes’ Theorem**"
   ]
  },
  {
   "cell_type": "markdown",
   "id": "f37c376a",
   "metadata": {},
   "source": [
    "Answer goes here..."
   ]
  },
  {
   "cell_type": "markdown",
   "id": "7bf3c603",
   "metadata": {},
   "source": [
    "**Q14. Explain the differences between Gaussian Naïve Bayes, Multinomial Naïve Bayes, and Bernoulli Naïve Bayes**"
   ]
  },
  {
   "cell_type": "markdown",
   "id": "f08b7e59",
   "metadata": {},
   "source": [
    "Answer goes here..."
   ]
  },
  {
   "cell_type": "markdown",
   "id": "8730b4b4",
   "metadata": {},
   "source": [
    "**Q15. When should you use Gaussian Naïve Bayes over other variants**"
   ]
  },
  {
   "cell_type": "markdown",
   "id": "692ef492",
   "metadata": {},
   "source": [
    "Answer goes here..."
   ]
  },
  {
   "cell_type": "markdown",
   "id": "38f3377a",
   "metadata": {},
   "source": [
    "**Q16. What are the key assumptions made by Naïve Bayes**"
   ]
  },
  {
   "cell_type": "markdown",
   "id": "89a46dda",
   "metadata": {},
   "source": [
    "Answer goes here..."
   ]
  },
  {
   "cell_type": "markdown",
   "id": "a77424ee",
   "metadata": {},
   "source": [
    "**Q17. What are the advantages and disadvantages of Naïve Bayes**"
   ]
  },
  {
   "cell_type": "markdown",
   "id": "60e13fb1",
   "metadata": {},
   "source": [
    "Answer goes here..."
   ]
  },
  {
   "cell_type": "markdown",
   "id": "b70393d0",
   "metadata": {},
   "source": [
    "**Q18. Why is Naïve Bayes a good choice for text classification**"
   ]
  },
  {
   "cell_type": "markdown",
   "id": "4d785c49",
   "metadata": {},
   "source": [
    "Answer goes here..."
   ]
  },
  {
   "cell_type": "markdown",
   "id": "33c6e76f",
   "metadata": {},
   "source": [
    "**Q19. Compare SVM and Naïve Bayes for classification tasks**"
   ]
  },
  {
   "cell_type": "markdown",
   "id": "390754b9",
   "metadata": {},
   "source": [
    "Answer goes here..."
   ]
  },
  {
   "cell_type": "markdown",
   "id": "abd75ef3",
   "metadata": {},
   "source": [
    "**Q20. How does Laplace Smoothing help in Naïve Bayes?**"
   ]
  },
  {
   "cell_type": "markdown",
   "id": "e42e633a",
   "metadata": {},
   "source": [
    "Answer goes here..."
   ]
  }
 ],
 "metadata": {},
 "nbformat": 4,
 "nbformat_minor": 5
}
